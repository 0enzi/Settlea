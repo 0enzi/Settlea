{
 "cells": [
  {
   "cell_type": "markdown",
   "id": "1605613a",
   "metadata": {},
   "source": [
    "# HEXAGON LIBRARY IN PYTHON\n",
    "\n",
    "adapted from: https://www.redblobgames.com/grids/hexagons/#map-storage"
   ]
  },
  {
   "cell_type": "code",
   "execution_count": 133,
   "id": "da1249b2",
   "metadata": {},
   "outputs": [],
   "source": [
    "import numpy as np\n",
    "import matplotlib.pyplot as plt\n",
    "from collections import namedtuple"
   ]
  },
  {
   "cell_type": "code",
   "execution_count": 106,
   "id": "9811c70e",
   "metadata": {},
   "outputs": [],
   "source": [
    "class Hex:\n",
    "    DIRECTIONS = [\n",
    "        (1, 0, -1), (1, -1, 0), (0, -1, 1),\n",
    "        (-1, 0, 1), (-1, 1, 0), (0, 1, -1)\n",
    "    ]\n",
    "    \n",
    "    def __init__(self, q: int, r:int):\n",
    "        self.q = q\n",
    "        self.r = r\n",
    "        self.s = - q - r\n",
    "           \n",
    "    def __eq__(self, other):\n",
    "        if isinstance(other, Hex):\n",
    "            return self.q == other.q and self.r == other.r and self.s == other.s\n",
    "        \n",
    "    def __ne__(self, other):\n",
    "        return not self.__eq__(other)\n",
    "    \n",
    "    def __repr__(self):\n",
    "        return f\"Hex(q={self.q}, r={self.r}, s={self.s})\"\n",
    "    \n",
    "    @staticmethod\n",
    "    def to_hex(direction):\n",
    "        return Hex(direction[0], direction[1])\n",
    "    \n",
    "    def add(self, other):\n",
    "        return Hex(self.q + other.q, self.r + other.r)\n",
    "    \n",
    "    def subtract(self, other):\n",
    "        return Hex(self.q - other.q, self.r - other.r)\n",
    "    \n",
    "    def multiply(self, other):\n",
    "        return Hex(self.q * other.q, self.r * other.r)\n",
    "    \n",
    "    def length(self):\n",
    "        return int((abs(self.q) + abs(self.r) + abs(self.s)) / 2)\n",
    "    \n",
    "    def distance_from(self, other):\n",
    "        diff = self.subtract(other)\n",
    "        return diff.length() \n",
    "    \n",
    "    def get_direction(self, direction: int): # 0 to 5\n",
    "        assert (0 <= direction < 6), \"em what the sigma\"\n",
    "        return self.to_hex(Hex.DIRECTIONS[direction])\n",
    "    \n",
    "    def get_neighbour(self, direction: int):\n",
    "        return self.add(self.get_direction(direction))"
   ]
  },
  {
   "cell_type": "code",
   "execution_count": 124,
   "id": "20a42805",
   "metadata": {},
   "outputs": [],
   "source": [
    "class Orientation:\n",
    "    def __init__(self, forward_matrix, inv_matrix, start_angle_):\n",
    "        if not isinstance(forward_matrix, np.ndarray):\n",
    "            forward_matrix = np.array(forward_matrix)\n",
    "        if not isinstance(inv_matrix, np.ndarray):\n",
    "            inv_matrix = np.array(inv_matrix)\n",
    "        self.forward_matrix = forward_matrix\n",
    "        self.inv_matrix = inv_matrix\n",
    "        self.start_angle_ = start_angle_\n",
    "        \n",
    "        # abominations\n",
    "        \n",
    "layout_pointy = Orientation([[3.0 / 2.0, 0.0], [np.sqrt(3.0) / 2.0, np.sqrt(3.0)]],\n",
    "    [[2.0 / 3.0, 0.0], [-1.0 / 3.0, np.sqrt(3.0) / 3.0]], 0.0)"
   ]
  },
  {
   "cell_type": "code",
   "execution_count": 134,
   "id": "31375ef4",
   "metadata": {},
   "outputs": [],
   "source": [
    "Point = namedtuple('Point', ['x', 'y'])\n",
    "\n",
    "class Point:\n",
    "    def __init__(self, x:float, y:float):\n",
    "        self.x = x\n",
    "        self.y = y\n",
    "    \n",
    "    def __repr__(self):\n",
    "        return f\"Point(x={self.x}, y={self.y})\"\n",
    "    \n",
    "    def hex_to_pixel(self, layout, h):\n",
    "        if not isinstance(layout, Layout):\n",
    "            raise ValueError(\"Must be Layout instance\")\n",
    "            \n",
    "        if not isinstance(h, Hex):\n",
    "            raise ValueError(\"Must be Hex instance\")\n",
    "            \n",
    "\n",
    "\n",
    "'''\n",
    "     if not isinstance(layout, Layout):\n",
    "            raise ValueError(\"Must be Layout instance\")\n",
    "        pt = np.array([(p.x - layout.origin.x) / layout.size.x,\n",
    "                   (p.y - layout.origin.y) / layout.size.y])\n",
    "    \n",
    "        q, r = layout.orientation.forward_matrix @ pt\n",
    "    \n",
    "        return FractionalHex(q, r, -q - r)\n",
    "    \n",
    "'''\n",
    "            "
   ]
  },
  {
   "cell_type": "code",
   "execution_count": 135,
   "id": "5f08b5df",
   "metadata": {},
   "outputs": [],
   "source": [
    "class Layout:\n",
    "    def __init__(self, orientation, size: Point, origin: Point):\n",
    "        if not isinstance(orientation, Orientation):\n",
    "            raise ValueError(\"Orientation must be an instance of Orientation\")\n",
    "        \n",
    "        if not isinstance(size, Point) or not isinstance(origin, Point):\n",
    "            raise ValueError(\"Size and origin must be instances of Point\")\n",
    "        \n",
    "        self.orientation = orientation\n",
    "        self.size = size\n",
    "        self.origin = origin"
   ]
  },
  {
   "cell_type": "code",
   "execution_count": 170,
   "id": "d118e987",
   "metadata": {},
   "outputs": [],
   "source": [
    "layout_test = Layout(layout_pointy, Point(1,3), Point(0,0))"
   ]
  },
  {
   "cell_type": "code",
   "execution_count": 171,
   "id": "4674bd3e",
   "metadata": {},
   "outputs": [],
   "source": [
    "class FractionalHex:\n",
    "    def __init__(self, q: float, r: float, s: float):\n",
    "        self.q = q\n",
    "        self.r = r\n",
    "        self.s = s\n",
    "        \n",
    "    def __repr__(self):\n",
    "        return f\"FractionalHex(q={self.q}, r={self.r}, s={self.s})\"\n",
    "    \n",
    "    def pixel_to_hex(self, layout, p: Point):\n",
    "        if not isinstance(layout, Layout):\n",
    "            raise ValueError(\"Must be Layout instance\")\n",
    "        pt = np.array([(p.x - layout.origin.x) / layout.size.x,\n",
    "                   (p.y - layout.origin.y) / layout.size.y])\n",
    "    \n",
    "        q, r = layout.orientation.forward_matrix @ pt\n",
    "    \n",
    "        return FractionalHex(q, r, -q - r)\n",
    "    "
   ]
  },
  {
   "cell_type": "code",
   "execution_count": 172,
   "id": "31640156",
   "metadata": {},
   "outputs": [
    {
     "data": {
      "text/plain": [
       "FractionalHex(q=4.5, r=5.484827557301445, s=-9.984827557301445)"
      ]
     },
     "execution_count": 172,
     "metadata": {},
     "output_type": "execute_result"
    }
   ],
   "source": []
  },
  {
   "cell_type": "code",
   "execution_count": null,
   "id": "5e7f6ffa",
   "metadata": {},
   "outputs": [],
   "source": []
  }
 ],
 "metadata": {
  "kernelspec": {
   "display_name": "Python 3 (ipykernel)",
   "language": "python",
   "name": "python3"
  },
  "language_info": {
   "codemirror_mode": {
    "name": "ipython",
    "version": 3
   },
   "file_extension": ".py",
   "mimetype": "text/x-python",
   "name": "python",
   "nbconvert_exporter": "python",
   "pygments_lexer": "ipython3",
   "version": "3.9.7"
  }
 },
 "nbformat": 4,
 "nbformat_minor": 5
}
